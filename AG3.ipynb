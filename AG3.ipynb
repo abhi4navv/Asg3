{
 "cells": [
  {
   "cell_type": "code",
   "execution_count": null,
   "metadata": {},
   "outputs": [],
   "source": [
    "# 1.Write a function to compute 5/0 and use try/except to catch the exceptions."
   ]
  },
  {
   "cell_type": "code",
   "execution_count": 3,
   "metadata": {},
   "outputs": [],
   "source": [
    "def dividbyzero():\n",
    "    res=0.0\n",
    "    try:\n",
    "        res=5/0\n",
    "    except:\n",
    "        print('Devide By Zero Error -You trying to divide by Zero ')\n",
    "    else:\n",
    "        print(res)"
   ]
  },
  {
   "cell_type": "code",
   "execution_count": 4,
   "metadata": {},
   "outputs": [
    {
     "name": "stdout",
     "output_type": "stream",
     "text": [
      "Devide By Zero Error -You trying to divide by Zero \n"
     ]
    }
   ],
   "source": [
    "dividbyzero()"
   ]
  },
  {
   "cell_type": "code",
   "execution_count": 5,
   "metadata": {},
   "outputs": [],
   "source": [
    "# 2. Implement a Python program to generate all sentences where subject is in [\"Americans\",\n",
    "# \"Indians\"] and verb is in [\"Play\", \"watch\"] and the object is in [\"Baseball\",\"cricket\"].\n",
    "\n",
    "#Output should come as below:\n",
    "\n",
    "#Americans play Baseball.\n",
    "#Americans play Cricket.\n",
    "#Americans watch Baseball.\n",
    "#Americans watch Cricket.\n",
    "#Indians play Baseball.\n",
    "#Indians play Cricket.\n",
    "#Indians watch Baseball.\n",
    "#Indians watch Cricket."
   ]
  },
  {
   "cell_type": "code",
   "execution_count": 6,
   "metadata": {},
   "outputs": [],
   "source": [
    "def gensent():\n",
    "    subject=['Americans','Indians']\n",
    "    verb=['Play','watch']\n",
    "    obj=['Baseball','cricket']\n",
    "    for i in range(len(subject)):\n",
    "        for j in range(len(subject)):\n",
    "            for k in range(len(subject)):\n",
    "                print(subject[i]+' '+verb[j]+' '+obj[k])"
   ]
  },
  {
   "cell_type": "code",
   "execution_count": 7,
   "metadata": {},
   "outputs": [
    {
     "name": "stdout",
     "output_type": "stream",
     "text": [
      "Americans Play Baseball\n",
      "Americans Play cricket\n",
      "Americans watch Baseball\n",
      "Americans watch cricket\n",
      "Indians Play Baseball\n",
      "Indians Play cricket\n",
      "Indians watch Baseball\n",
      "Indians watch cricket\n"
     ]
    }
   ],
   "source": [
    "gensent()"
   ]
  },
  {
   "cell_type": "code",
   "execution_count": 8,
   "metadata": {},
   "outputs": [],
   "source": [
    "# Task 2. Write a function so that the columns of the output matrix are powers of the input vector."
   ]
  },
  {
   "cell_type": "code",
   "execution_count": 9,
   "metadata": {},
   "outputs": [],
   "source": [
    "import numpy as np"
   ]
  },
  {
   "cell_type": "code",
   "execution_count": 124,
   "metadata": {},
   "outputs": [],
   "source": [
    "def althvan(X,N=None):\n",
    "    lst=list()\n",
    "    mt=np.zeros((N,N))\n",
    "    if N is None:\n",
    "        N=len(X)\n",
    "    for i in range(N-1,-1,-1):\n",
    "        for j in range(len(X)):\n",
    "            lst.append(X[j]**i)\n",
    "        col=np.array(lst)[np.newaxis]\n",
    "        col2=col.T\n",
    "    k=0\n",
    "    for i in range(len(mt)):\n",
    "        for j in range(N):\n",
    "            if(k<len(lst)):\n",
    "                mt[j][i]=lst[k]\n",
    "            k=k+1\n",
    "                \n",
    "                \n",
    "    print(mt)\n",
    "    \n",
    "    \n",
    "    "
   ]
  },
  {
   "cell_type": "code",
   "execution_count": 125,
   "metadata": {},
   "outputs": [
    {
     "name": "stdout",
     "output_type": "stream",
     "text": [
      "[[  1.   1.   1.   1.]\n",
      " [  8.   4.   2.   1.]\n",
      " [ 27.   9.   3.   1.]\n",
      " [125.  25.   5.   1.]]\n"
     ]
    }
   ],
   "source": [
    "althvan([1,2,3,5],4)\n",
    "#lst1=[1,2,3,4]\n",
    "#c=np.array(lst1)[np.newaxis]\n",
    "#c=c.T\n",
    "#c"
   ]
  },
  {
   "cell_type": "code",
   "execution_count": null,
   "metadata": {},
   "outputs": [],
   "source": []
  },
  {
   "cell_type": "code",
   "execution_count": null,
   "metadata": {},
   "outputs": [],
   "source": []
  }
 ],
 "metadata": {
  "kernelspec": {
   "display_name": "Python 3",
   "language": "python",
   "name": "python3"
  },
  "language_info": {
   "codemirror_mode": {
    "name": "ipython",
    "version": 3
   },
   "file_extension": ".py",
   "mimetype": "text/x-python",
   "name": "python",
   "nbconvert_exporter": "python",
   "pygments_lexer": "ipython3",
   "version": "3.7.0"
  }
 },
 "nbformat": 4,
 "nbformat_minor": 2
}
